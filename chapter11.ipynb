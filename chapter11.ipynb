{
 "cells": [
  {
   "cell_type": "code",
   "execution_count": 3,
   "metadata": {},
   "outputs": [],
   "source": [
    "from pyspark import SparkContext\n",
    "from pyspark import SparkConf"
   ]
  },
  {
   "cell_type": "code",
   "execution_count": 1,
   "metadata": {},
   "outputs": [],
   "source": [
    "def CreateSparkContext():\n",
    "    sparkConf = sparkConf()\\\n",
    "    .setAppName('Wordcounts')\\\n",
    "    .set('spark.ui.showConsoleProress',falseg)\n",
    "    sc = SparkContext(conf= sparkconf)\n",
    "    print('master'+sc.master)\n",
    "    SetLogger(sc)\n",
    "    SetPath(sc)\n",
    "    return(sc)"
   ]
  }
 ],
 "metadata": {
  "kernelspec": {
   "display_name": "Python 3",
   "language": "python",
   "name": "python3"
  },
  "language_info": {
   "codemirror_mode": {
    "name": "ipython",
    "version": 3
   },
   "file_extension": ".py",
   "mimetype": "text/x-python",
   "name": "python",
   "nbconvert_exporter": "python",
   "pygments_lexer": "ipython3",
   "version": "3.6.5"
  }
 },
 "nbformat": 4,
 "nbformat_minor": 2
}
